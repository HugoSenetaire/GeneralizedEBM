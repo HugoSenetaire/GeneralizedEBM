{
 "cells": [
  {
   "cell_type": "code",
   "execution_count": 3,
   "metadata": {},
   "outputs": [],
   "source": [
    "import torch \n",
    "\n",
    "import os\n",
    "from torch.autograd import Variable\n",
    "\n",
    "import numpy as np\n",
    "import torch.optim as optim\n",
    "#from kcrf.estimator import simple_estimator as np_simple_est\n",
    "import time \n",
    "import matplotlib.pyplot as plt\n",
    "import matplotlib \n",
    "import matplotlib.cm as cm\n",
    "import matplotlib.animation as animation\n",
    "import pickle\n",
    "%matplotlib inline\n",
    "import seaborn as sns\n",
    "sns.set(context='paper', style='whitegrid', font_scale=1.75)\n",
    "sns.set_style(\"whitegrid\", {'axes.grid' : False})\n",
    "from copy import deepcopy\n",
    "from matplotlib.legend_handler import HandlerPatch\n",
    "import matplotlib.patches as mpatches\n",
    "from matplotlib import pyplot\n",
    "\n",
    "\n",
    "cwd = os.getcwd()\n",
    "if  os.path.basename(os.path.normpath(cwd))=='notebooks':\n",
    "    os.chdir(\"../\")\n",
    "\n",
    "from helpers import load_dictionary"
   ]
  },
  {
   "cell_type": "code",
   "execution_count": 4,
   "metadata": {},
   "outputs": [],
   "source": [
    "dirname = 'figures/'\n",
    "#os.makedirs(dirname, exist_ok=True)\n",
    "save_figs = True\n",
    "def save(n, ext='.pdf', save_figs=True, **kwargs):\n",
    "    if save_figs==True:\n",
    "        kwargs.setdefault('bbox_inches', 'tight')\n",
    "        kwargs.setdefault('pad_inches', 0)\n",
    "        kwargs.setdefault('transparent', True)\n",
    "        plt.savefig(os.path.join(dirname, n + ext), **kwargs)"
   ]
  },
  {
   "cell_type": "code",
   "execution_count": 10,
   "metadata": {},
   "outputs": [],
   "source": [
    "root = '/nfs/gatsbystor/michaela/projects/kale/exp/neurips'\n",
    "path = 'sampling_cifar10/sample/samples_263754_/'\n",
    "file_name = 'stats_seed_0.json'\n",
    "full_path = os.path.join(root, path, file_name)\n",
    "out_dic = load_dictionary(full_path)\n"
   ]
  },
  {
   "cell_type": "code",
   "execution_count": 12,
   "metadata": {},
   "outputs": [
    {
     "data": {
      "text/plain": [
       "dict_keys(['fid_train', 'fid_test', 'index', 'path_arrays'])"
      ]
     },
     "execution_count": 12,
     "metadata": {},
     "output_type": "execute_result"
    }
   ],
   "source": [
    "out_dic.keys()"
   ]
  },
  {
   "cell_type": "markdown",
   "metadata": {},
   "source": [
    "# Plotting FID"
   ]
  },
  {
   "cell_type": "code",
   "execution_count": 13,
   "metadata": {},
   "outputs": [
    {
     "data": {
      "text/plain": [
       "[<matplotlib.lines.Line2D at 0x7ff09b4cee50>]"
      ]
     },
     "execution_count": 13,
     "metadata": {},
     "output_type": "execute_result"
    },
    {
     "data": {
      "image/png": "[encoded data removed]",
      "text/plain": [
       "<Figure size 432x288 with 1 Axes>"
      ]
     },
     "metadata": {},
     "output_type": "display_data"
    }
   ],
   "source": [
    "plt.plot( out_dic['index'], out_dic['fid_train'])"
   ]
  },
  {
   "cell_type": "code",
   "execution_count": 17,
   "metadata": {},
   "outputs": [],
   "source": [
    "paths_to_arrays = out_dic['path_arrays']\n",
    "images = []\n",
    "latents = []\n",
    "for path in paths_to_arrays:\n",
    "    array_dic =  np.load(path+'.npz')\n",
    "    images.append(array_dic['images'])\n",
    "    latents.append(array_dic['latents'])\n",
    "\n"
   ]
  },
  {
   "cell_type": "code",
   "execution_count": 18,
   "metadata": {},
   "outputs": [],
   "source": [
    "images = np.stack(images, axis=0)\n",
    "latents = np.stack(latents, axis=0)"
   ]
  },
  {
   "cell_type": "code",
   "execution_count": null,
   "metadata": {},
   "outputs": [],
   "source": []
  }
 ],
 "metadata": {
  "kernelspec": {
   "display_name": "Python 3",
   "language": "python",
   "name": "python3"
  },
  "language_info": {
   "codemirror_mode": {
    "name": "ipython",
    "version": 3
   },
   "file_extension": ".py",
   "mimetype": "text/x-python",
   "name": "python",
   "nbconvert_exporter": "python",
   "pygments_lexer": "ipython3",
   "version": "3.7.4"
  }
 },
 "nbformat": 4,
 "nbformat_minor": 2
}
