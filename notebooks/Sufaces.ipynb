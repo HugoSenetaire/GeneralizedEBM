{
 "cells": [
  {
   "cell_type": "code",
   "execution_count": null,
   "metadata": {},
   "outputs": [],
   "source": [
    "from numpy import sin, cos, mgrid, pi, sqrt\n",
    "from mayavi import mlab\n",
    "\n",
    "mlab.figure(fgcolor=(0, 0, 0), bgcolor=(1, 1, 1))\n",
    "u, v = mgrid[- 0.035:pi:0.01, - 0.035:pi:0.01]\n",
    "\n",
    "X = 2 / 3. * (cos(u) * cos(2 * v)\n",
    "        + sqrt(2) * sin(u) * cos(v)) * cos(u) / (sqrt(2) -\n",
    "                                                 sin(2 * u) * sin(3 * v))\n",
    "Y = 2 / 3. * (cos(u) * sin(2 * v) -\n",
    "        sqrt(2) * sin(u) * sin(v)) * cos(u) / (sqrt(2)\n",
    "        - sin(2 * u) * sin(3 * v))\n",
    "Z = -sqrt(2) * cos(u) * cos(u) / (sqrt(2) - sin(2 * u) * sin(3 * v))\n",
    "S = sin(u)\n",
    "\n",
    "mlab.mesh(X, Y, Z, scalars=S, colormap='YlGnBu', )\n",
    "\n",
    "# Nice view from the front\n",
    "mlab.view(.0, - 5.0, 4)\n",
    "mlab.show()"
   ]
  },
  {
   "cell_type": "code",
   "execution_count": null,
   "metadata": {},
   "outputs": [],
   "source": []
  }
 ],
 "metadata": {
  "kernelspec": {
   "display_name": "Python 3",
   "language": "python",
   "name": "python3"
  },
  "language_info": {
   "codemirror_mode": {
    "name": "ipython",
    "version": 3
   },
   "file_extension": ".py",
   "mimetype": "text/x-python",
   "name": "python",
   "nbconvert_exporter": "python",
   "pygments_lexer": "ipython3",
   "version": "3.7.4"
  }
 },
 "nbformat": 4,
 "nbformat_minor": 2
}
